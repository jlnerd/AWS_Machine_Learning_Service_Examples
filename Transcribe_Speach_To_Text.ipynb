{
 "cells": [
  {
   "cell_type": "markdown",
   "metadata": {},
   "source": [
    "# Install Libs"
   ]
  },
  {
   "cell_type": "code",
   "execution_count": 1,
   "metadata": {
    "ExecuteTime": {
     "end_time": "2019-11-02T01:38:57.248327Z",
     "start_time": "2019-11-02T01:38:41.883888Z"
    }
   },
   "outputs": [],
   "source": [
    "!pip install --upgrade boto3\n",
    "!pip install wget\n",
    "!brew install ffmpeg\n",
    "import IPython.display\n",
    "IPython.display.clear_output()"
   ]
  },
  {
   "cell_type": "markdown",
   "metadata": {},
   "source": [
    "# Import Libs"
   ]
  },
  {
   "cell_type": "code",
   "execution_count": 3,
   "metadata": {
    "ExecuteTime": {
     "end_time": "2019-11-02T01:39:30.026074Z",
     "start_time": "2019-11-02T01:39:30.021381Z"
    }
   },
   "outputs": [],
   "source": [
    "import boto3\n",
    "import dill\n",
    "import sys, os, shutil\n",
    "import subprocess"
   ]
  },
  {
   "cell_type": "markdown",
   "metadata": {},
   "source": [
    "# Define Paths"
   ]
  },
  {
   "cell_type": "code",
   "execution_count": 76,
   "metadata": {
    "ExecuteTime": {
     "end_time": "2019-11-03T15:23:44.416456Z",
     "start_time": "2019-11-03T15:23:44.405896Z"
    }
   },
   "outputs": [],
   "source": [
    "path_home_dir = os.path.expanduser(os.path.join('~','Desktop'))\n",
    "path_report_dir = os.path.join(path_home_dir, 'AWS_Transcribe')\n",
    "\n",
    "if os.path.isdir(path_report_dir)==False:\n",
    "    os.makedirs(path_report_dir)"
   ]
  },
  {
   "cell_type": "markdown",
   "metadata": {},
   "source": [
    "# Load Access Keys"
   ]
  },
  {
   "cell_type": "code",
   "execution_count": 5,
   "metadata": {
    "ExecuteTime": {
     "end_time": "2019-11-02T01:40:21.017989Z",
     "start_time": "2019-11-02T01:40:21.002414Z"
    }
   },
   "outputs": [],
   "source": [
    "path_access_keys_file = '../accessKeys.csv'\n",
    "\n",
    "access_keys = pd.read_csv(path_access_keys_file)\n",
    "\n",
    "personal_access_key = access_keys['Access key ID'].iloc[0]\n",
    "secret_access_key = access_keys[\"Secret access key\"].iloc[0]"
   ]
  },
  {
   "cell_type": "markdown",
   "metadata": {},
   "source": [
    "# Upload to Bucket"
   ]
  },
  {
   "cell_type": "code",
   "execution_count": 15,
   "metadata": {
    "ExecuteTime": {
     "end_time": "2019-11-02T02:02:46.305096Z",
     "start_time": "2019-11-02T02:02:46.279214Z"
    }
   },
   "outputs": [],
   "source": [
    "region = 'us-west-1'\n",
    "s3_client = boto3.client(service_name = 's3',\n",
    "                      region_name = region,\n",
    "                      aws_access_key_id = personal_access_key,\n",
    "                      aws_secret_access_key = secret_access_key)"
   ]
  },
  {
   "cell_type": "code",
   "execution_count": 16,
   "metadata": {
    "ExecuteTime": {
     "end_time": "2019-11-02T02:02:47.215044Z",
     "start_time": "2019-11-02T02:02:47.206806Z"
    }
   },
   "outputs": [
    {
     "data": {
      "text/plain": [
       "'jl-aws-transcribe'"
      ]
     },
     "execution_count": 16,
     "metadata": {},
     "output_type": "execute_result"
    }
   ],
   "source": [
    "username = 'jl'\n",
    "bucket = username + '-' + os.path.split(path_report_dir)[1].lower().replace('_','-')\n",
    "bucket"
   ]
  },
  {
   "cell_type": "code",
   "execution_count": 19,
   "metadata": {
    "ExecuteTime": {
     "end_time": "2019-11-02T02:03:21.756902Z",
     "start_time": "2019-11-02T02:03:21.754401Z"
    }
   },
   "outputs": [],
   "source": [
    "path_audio = './speech_audio/OSR_us_000_0010_8k.wav'\n",
    "audio_filename = 'OSR_us_000_0010_8k.wav'"
   ]
  },
  {
   "cell_type": "code",
   "execution_count": 20,
   "metadata": {
    "ExecuteTime": {
     "end_time": "2019-11-02T02:03:24.848405Z",
     "start_time": "2019-11-02T02:03:22.369944Z"
    },
    "scrolled": false
   },
   "outputs": [],
   "source": [
    "# Create Bucket if not alread present\n",
    "if bucket not in [bucket['Name'] for bucket in s3_client.list_buckets()['Buckets']]:\n",
    "    s3_client.create_bucket(Bucket = bucket, \n",
    "                         CreateBucketConfiguration =  {'LocationConstraint': region} )\n",
    "\n",
    "#upload if the video isn't already in the bucket\n",
    "if 'Contents' in s3_client.list_objects(Bucket = bucket).keys():\n",
    "    if audio_filename not in [obj['Key'] for obj in s3_client.list_objects(Bucket=bucket)['Contents']]:\n",
    "        s3_client.upload_file(path_audio, bucket, audio_filename)\n",
    "else:\n",
    "    s3_client.upload_file(path_audio, bucket, audio_filename)"
   ]
  },
  {
   "cell_type": "markdown",
   "metadata": {},
   "source": [
    "# Start Transcribe Client"
   ]
  },
  {
   "cell_type": "code",
   "execution_count": 21,
   "metadata": {
    "ExecuteTime": {
     "end_time": "2019-11-02T02:03:29.714169Z",
     "start_time": "2019-11-02T02:03:29.684790Z"
    }
   },
   "outputs": [],
   "source": [
    "\n",
    "trans_client =  boto3.client(service_name = 'transcribe',\n",
    "                                      region_name = region, \n",
    "                                      aws_access_key_id = personal_access_key,\n",
    "                                      aws_secret_access_key = secret_access_key)"
   ]
  },
  {
   "cell_type": "code",
   "execution_count": 82,
   "metadata": {
    "ExecuteTime": {
     "end_time": "2019-11-03T15:30:43.473729Z",
     "start_time": "2019-11-03T15:29:45.529342Z"
    }
   },
   "outputs": [
    {
     "name": "stdout",
     "output_type": "stream",
     "text": [
      ".......................................................................................................................................................................................................................................................................................................................................................................................................................................................................................................................................................................................................................................................................................................................................................................................................................................................................... COMPLETED !\n",
      "transcription job json ouput saved to /Users/johnleonard/Desktop/AWS_Transcribe/string.json\n"
     ]
    }
   ],
   "source": [
    "\n",
    "def run_transcription_job(audio_filename,\n",
    "                          TranscriptionJobName, \n",
    "                          s3_client, trans_client,\n",
    "                          region,\n",
    "                          bucket, path_output_file):\n",
    "    \"\"\"\n",
    "    Run a transcription job, download the resulting json, and delete the job after completion\n",
    "    \"\"\"\n",
    "    \n",
    "    response = trans_client.start_transcription_job(TranscriptionJobName=TranscriptionJobName,\n",
    "                                         LanguageCode='en-US',\n",
    "                                         Media={'MediaFileUri':'https://s3-'+region+'.amazonaws.com/'+bucket+'/'+audio_filename},\n",
    "                                         OutputBucketName=bucket\n",
    "                                                   )\n",
    "    progress = '.'\n",
    "    while response['TranscriptionJob']['TranscriptionJobStatus'] == 'IN_PROGRESS':\n",
    "        response = trans_client.get_transcription_job(TranscriptionJobName=TranscriptionJobName)\n",
    "        progress = progress + '.'\n",
    "        print(progress,end='\\r')\n",
    "    print(progress,response['TranscriptionJob']['TranscriptionJobStatus'],'!')\n",
    "    \n",
    "    s3_client.download_file(Bucket = bucket,\n",
    "                         Key = TranscriptionJobName+'.json',\n",
    "                         Filename = path_output_file)\n",
    "\n",
    "    trans_client.delete_transcription_job(TranscriptionJobName='string')\n",
    "    \n",
    "    print('transcription job json ouput saved to',path_output_file)\n",
    "\n",
    "    \n",
    "    \n",
    "TranscriptionJobName='string'\n",
    "path_output_file = os.path.join(path_report_dir,TranscriptionJobName+'.json')\n",
    "   \n",
    "run_transcription_job(audio_filename,\n",
    "                          TranscriptionJobName, \n",
    "                          s3_client, trans_client,\n",
    "                          region,\n",
    "                          bucket, path_output_file)"
   ]
  },
  {
   "cell_type": "code",
   "execution_count": 91,
   "metadata": {
    "ExecuteTime": {
     "end_time": "2019-11-03T15:31:56.761823Z",
     "start_time": "2019-11-03T15:31:56.755583Z"
    },
    "scrolled": false
   },
   "outputs": [
    {
     "data": {
      "text/plain": [
       "\"the birds. Canoes lit on this move. Planks glue the sheet to the doctor blue background. It is easy to tell the death over well, these days, the chicken make is a very dish. Rice's often served in Randall's The juice of limits makes fine punch. The boxes don't decide the park took the Hobbs or such popcorn and garbage. Four hours of study work faced us. A. Large size and stockings is hard to sell.\""
      ]
     },
     "execution_count": 91,
     "metadata": {},
     "output_type": "execute_result"
    }
   ],
   "source": [
    "file = open(path_output_file, 'r')\n",
    "Transcription = json.load(file)\n",
    "file.close\n",
    "\n",
    "Transcription['results']['transcripts'][0]['transcript']"
   ]
  }
 ],
 "metadata": {
  "kernelspec": {
   "display_name": "Python 3",
   "language": "python",
   "name": "python3"
  },
  "language_info": {
   "codemirror_mode": {
    "name": "ipython",
    "version": 3
   },
   "file_extension": ".py",
   "mimetype": "text/x-python",
   "name": "python",
   "nbconvert_exporter": "python",
   "pygments_lexer": "ipython3",
   "version": "3.6.8"
  },
  "toc": {
   "base_numbering": 1,
   "nav_menu": {},
   "number_sections": true,
   "sideBar": true,
   "skip_h1_title": false,
   "title_cell": "Table of Contents",
   "title_sidebar": "Contents",
   "toc_cell": false,
   "toc_position": {},
   "toc_section_display": true,
   "toc_window_display": false
  },
  "varInspector": {
   "cols": {
    "lenName": 16,
    "lenType": 16,
    "lenVar": 40
   },
   "kernels_config": {
    "python": {
     "delete_cmd_postfix": "",
     "delete_cmd_prefix": "del ",
     "library": "var_list.py",
     "varRefreshCmd": "print(var_dic_list())"
    },
    "r": {
     "delete_cmd_postfix": ") ",
     "delete_cmd_prefix": "rm(",
     "library": "var_list.r",
     "varRefreshCmd": "cat(var_dic_list()) "
    }
   },
   "types_to_exclude": [
    "module",
    "function",
    "builtin_function_or_method",
    "instance",
    "_Feature"
   ],
   "window_display": false
  }
 },
 "nbformat": 4,
 "nbformat_minor": 2
}
